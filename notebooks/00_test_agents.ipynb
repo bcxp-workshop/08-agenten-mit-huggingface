{
 "cells": [
  {
   "cell_type": "code",
   "execution_count": null,
   "id": "904f4541",
   "metadata": {},
   "outputs": [],
   "source": [
    "from huggingface_hub import notebook_login\n",
    "\n",
    "notebook_login()"
   ]
  },
  {
   "cell_type": "code",
   "execution_count": null,
   "id": "e97882ce",
   "metadata": {},
   "outputs": [],
   "source": [
    "from smolagents import ToolCallingAgent, DuckDuckGoSearchTool, InferenceClientModel\n",
    "\n",
    "agent = ToolCallingAgent(tools=[DuckDuckGoSearchTool()], model=InferenceClientModel())\n",
    "\n",
    "agent.run(\"Search for the fastest and cheapest plane ticket from Frankfurt, Germany to Tokyo, Japan for the 1st of October 2025.\")"
   ]
  }
 ],
 "metadata": {
  "kernelspec": {
   "display_name": "Python 3",
   "language": "python",
   "name": "python3"
  },
  "language_info": {
   "name": "python",
   "version": "3.12.3"
  }
 },
 "nbformat": 4,
 "nbformat_minor": 5
}
